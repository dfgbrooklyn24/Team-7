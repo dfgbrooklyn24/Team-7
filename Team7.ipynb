{
 "cells": [
  {
   "cell_type": "code",
   "execution_count": 51,
   "id": "e33359e2-e6a2-4596-ab51-bfc1983627f0",
   "metadata": {
    "tags": []
   },
   "outputs": [],
   "source": [
    "import pandas as pd\n",
    "import numpy as np"
   ]
  },
  {
   "cell_type": "code",
   "execution_count": 3,
   "id": "e94bad93-41a0-41ef-ae4c-cf336bc6bafe",
   "metadata": {
    "tags": []
   },
   "outputs": [],
   "source": [
    "# Dataframes from Census-Data\n",
    "census_column_keys = pd.read_csv(\"../shared_data_read_only/Census-Data/ACSST5Y2022.S2201-Column-Metadata.csv\")\n",
    "census_data = pd.read_csv(\"../shared_data_read_only/Census-Data/ACSST5Y2022.S2201-Data.csv\", low_memory=False)\n",
    "nonprofit_data = pd.read_csv(\"../shared_data_read_only/Census-Data/Nonprofit_Data_PA.csv\")"
   ]
  },
  {
   "cell_type": "code",
   "execution_count": 4,
   "id": "cbec03e9-22d2-4371-ba9b-270dbb465402",
   "metadata": {
    "tags": []
   },
   "outputs": [],
   "source": [
    "# Dataframes from Education-Data\n",
    "enrollment_demographics = pd.read_csv(\"../shared_data_read_only/Education-Data/2023-2024 Enrollment & Demographics.csv\")\n",
    "master_school_list = pd.read_csv(\"../shared_data_read_only/Education-Data/2023-2024 Master School List (20231003).csv\")\n",
    "college_matriculation = pd.read_csv(\"../shared_data_read_only/Education-Data/SDP_College_Matriculation_2021-2022.csv\")\n",
    "graduation_rates = pd.read_csv(\"../shared_data_read_only/Education-Data/SDP_Graduation_Rates_School_S_2023-02-15.csv\")\n",
    "school_metrics = pd.read_csv(\"../shared_data_read_only/Education-Data/SPREE_SY2122_School_Metric_Scores.csv\")\n",
    "student_ada = pd.read_csv(\"../shared_data_read_only/Education-Data/Student_ADA_Yearly.csv\")"
   ]
  },
  {
   "cell_type": "code",
   "execution_count": 17,
   "id": "495f22fd-c65c-451f-85be-4724d1aa9600",
   "metadata": {
    "tags": []
   },
   "outputs": [],
   "source": [
    "# Dataframes from Geography-Mapping\n",
    "geography_map = pd.read_csv(\"../shared_data_read_only/Geography-Mapping/ZIP_TRACT_122023.csv\")"
   ]
  },
  {
   "cell_type": "code",
   "execution_count": 36,
   "id": "8f965105-ad67-4776-93ef-bd5c69c6c71d",
   "metadata": {},
   "outputs": [
    {
     "name": "stdout",
     "output_type": "stream",
     "text": [
      "3446\n",
      "8907\n"
     ]
    }
   ],
   "source": [
    "#Clean and merge the census data\n",
    "\n",
    "#check if NAME column contains \"Pennsylvania\"\n",
    "#list(census_data.columns)\n",
    "PA_census_data = census_data[census_data['NAME'].str.contains('Pennsylvania')]\n",
    "print(PA_census_data.shape[0]) #this has 3446 because of multiple tracts\n",
    "\n",
    "#remove the leading \"1400000US\" in front to extract the tract number\n",
    "PA_census_data.loc[:, 'GEO_ID'] = PA_census_data['GEO_ID'].str.replace('1400000US', '')\n",
    "PA_census_renamed = PA_census_data.rename({'GEO_ID' : 'TRACT'}, axis=1)\n",
    "\n",
    "#filter down the geography map\n",
    "PA_geography_map = geography_map[geography_map['USPS_ZIP_PREF_STATE'].str.contains('PA')]\n",
    "print(PA_geography_map.shape[0]) #8907 values, greater than our 3446 so not every tract is represented\n"
   ]
  },
  {
   "cell_type": "code",
   "execution_count": 89,
   "id": "09f150b7-784b-4d51-bc96-09d62d8b2554",
   "metadata": {
    "tags": []
   },
   "outputs": [
    {
     "name": "stdout",
     "output_type": "stream",
     "text": [
      "8908\n",
      "          ZIP        TRACT                                               NAME  \\\n",
      "1101  15001.0  42007604901  Census Tract 6049.01; Beaver County; Pennsylvania   \n",
      "1064  15001.0  42007602900     Census Tract 6029; Beaver County; Pennsylvania   \n",
      "1068  15001.0  42007603000     Census Tract 6030; Beaver County; Pennsylvania   \n",
      "1073  15001.0  42007603202  Census Tract 6032.02; Beaver County; Pennsylvania   \n",
      "1128  15001.0  42007605500     Census Tract 6055; Beaver County; Pennsylvania   \n",
      "1104  15001.0  42007605001  Census Tract 6050.01; Beaver County; Pennsylvania   \n",
      "1103  15001.0  42007604902  Census Tract 6049.02; Beaver County; Pennsylvania   \n",
      "1107  15001.0  42007605002  Census Tract 6050.02; Beaver County; Pennsylvania   \n",
      "1133  15001.0  42007605700     Census Tract 6057; Beaver County; Pennsylvania   \n",
      "1099  15001.0  42007604800     Census Tract 6048; Beaver County; Pennsylvania   \n",
      "\n",
      "     S2201_C01_001E S2201_C01_001M S2201_C01_002E S2201_C01_002M  \\\n",
      "1101           1636            141            858            146   \n",
      "1064           1026            145            527            114   \n",
      "1068           1075             74            535             85   \n",
      "1073           2952            252           1424            249   \n",
      "1128           2191            225           1069            237   \n",
      "1104            904             94            434             66   \n",
      "1103           2280            286            925            179   \n",
      "1107           1303            118            569            111   \n",
      "1133           1182            213            548            177   \n",
      "1099           2195            271            894            244   \n",
      "\n",
      "     S2201_C01_003E S2201_C01_003M S2201_C01_004E  ... S2201_C06_037M  \\\n",
      "1101            778            169            840  ...            8.9   \n",
      "1064            499             89            641  ...            6.7   \n",
      "1068            540             82            643  ...            5.8   \n",
      "1073           1528            205           1867  ...            8.4   \n",
      "1128           1122            200           1248  ...           10.4   \n",
      "1104            470             99            616  ...            9.2   \n",
      "1103           1355            330            962  ...            7.8   \n",
      "1107            734            101            860  ...            8.0   \n",
      "1133            634            164            389  ...           16.3   \n",
      "1099           1301            222            908  ...           10.3   \n",
      "\n",
      "     S2201_C06_038E S2201_C06_038M Unnamed: 458 USPS_ZIP_PREF_CITY  \\\n",
      "1101           69.0            8.8          NaN          ALIQUIPPA   \n",
      "1064           54.8            8.3          NaN          ALIQUIPPA   \n",
      "1068           62.5            7.8          NaN          ALIQUIPPA   \n",
      "1073           53.4            7.9          NaN          ALIQUIPPA   \n",
      "1128           54.2           11.5          NaN          ALIQUIPPA   \n",
      "1104           58.1            8.8          NaN          ALIQUIPPA   \n",
      "1103           54.3           12.0          NaN          ALIQUIPPA   \n",
      "1107           67.8            9.4          NaN          ALIQUIPPA   \n",
      "1133           37.6           15.8          NaN          ALIQUIPPA   \n",
      "1099           64.5           11.2          NaN          ALIQUIPPA   \n",
      "\n",
      "     USPS_ZIP_PREF_STATE RES_RATIO BUS_RATIO OTH_RATIO TOT_RATIO  \n",
      "1101                  PA  0.109431  0.092672  0.102778  0.108464  \n",
      "1064                  PA  0.009269  0.000000  0.005556  0.008733  \n",
      "1068                  PA  0.062855  0.029095  0.005556  0.060054  \n",
      "1073                  PA  0.108678  0.066810  0.150000  0.107385  \n",
      "1128                  PA  0.030298  0.050647  0.061111  0.031914  \n",
      "1104                  PA  0.039856  0.014009  0.011111  0.038005  \n",
      "1103                  PA  0.138281  0.109914  0.083333  0.135795  \n",
      "1107                  PA  0.002607  0.001078  0.000000  0.002480  \n",
      "1133                  PA  0.127795  0.274784  0.100000  0.134609  \n",
      "1099                  PA  0.117599  0.087284  0.122222  0.116173  \n",
      "\n",
      "[10 rows x 466 columns]\n",
      "Columns for averaging: ['NAME', 'S2201_C01_034E', 'S2201_C01_034M', 'S2201_C02_001E', 'S2201_C02_001M', 'S2201_C02_002E', 'S2201_C02_002M', 'S2201_C02_003E', 'S2201_C02_003M', 'S2201_C02_004E', 'S2201_C02_004M', 'S2201_C02_005E', 'S2201_C02_005M', 'S2201_C02_006E', 'S2201_C02_006M', 'S2201_C02_007E', 'S2201_C02_007M', 'S2201_C02_008E', 'S2201_C02_008M', 'S2201_C02_009E', 'S2201_C02_009M', 'S2201_C02_010E', 'S2201_C02_010M', 'S2201_C02_011E', 'S2201_C02_011M', 'S2201_C02_012E', 'S2201_C02_012M', 'S2201_C02_013E', 'S2201_C02_013M', 'S2201_C02_014E', 'S2201_C02_014M', 'S2201_C02_015E', 'S2201_C02_015M', 'S2201_C02_016E', 'S2201_C02_016M', 'S2201_C02_017E', 'S2201_C02_017M', 'S2201_C02_018E', 'S2201_C02_018M', 'S2201_C02_019E', 'S2201_C02_019M', 'S2201_C02_020E', 'S2201_C02_020M', 'S2201_C02_021E', 'S2201_C02_021M', 'S2201_C02_022E', 'S2201_C02_022M', 'S2201_C02_023E', 'S2201_C02_023M', 'S2201_C02_024E', 'S2201_C02_024M', 'S2201_C02_025E', 'S2201_C02_025M', 'S2201_C02_026E', 'S2201_C02_026M', 'S2201_C02_027E', 'S2201_C02_027M', 'S2201_C02_028E', 'S2201_C02_028M', 'S2201_C02_029E', 'S2201_C02_029M', 'S2201_C02_030E', 'S2201_C02_030M', 'S2201_C02_031E', 'S2201_C02_031M', 'S2201_C02_032E', 'S2201_C02_032M', 'S2201_C02_033E', 'S2201_C02_033M', 'S2201_C02_034E', 'S2201_C02_034M', 'S2201_C02_035E', 'S2201_C02_035M', 'S2201_C02_036E', 'S2201_C02_036M', 'S2201_C02_037E', 'S2201_C02_037M', 'S2201_C02_038E', 'S2201_C02_038M', 'S2201_C03_034E', 'S2201_C03_034M', 'S2201_C04_001E', 'S2201_C04_001M', 'S2201_C04_002E', 'S2201_C04_002M', 'S2201_C04_003E', 'S2201_C04_003M', 'S2201_C04_004E', 'S2201_C04_004M', 'S2201_C04_005E', 'S2201_C04_005M', 'S2201_C04_006E', 'S2201_C04_006M', 'S2201_C04_007E', 'S2201_C04_007M', 'S2201_C04_008E', 'S2201_C04_008M', 'S2201_C04_009E', 'S2201_C04_009M', 'S2201_C04_010E', 'S2201_C04_010M', 'S2201_C04_011E', 'S2201_C04_011M', 'S2201_C04_012E', 'S2201_C04_012M', 'S2201_C04_013E', 'S2201_C04_013M', 'S2201_C04_014E', 'S2201_C04_014M', 'S2201_C04_015E', 'S2201_C04_015M', 'S2201_C04_016E', 'S2201_C04_016M', 'S2201_C04_017E', 'S2201_C04_017M', 'S2201_C04_018E', 'S2201_C04_018M', 'S2201_C04_019E', 'S2201_C04_019M', 'S2201_C04_020E', 'S2201_C04_020M', 'S2201_C04_021E', 'S2201_C04_021M', 'S2201_C04_022E', 'S2201_C04_022M', 'S2201_C04_023E', 'S2201_C04_023M', 'S2201_C04_024E', 'S2201_C04_024M', 'S2201_C04_025E', 'S2201_C04_025M', 'S2201_C04_026E', 'S2201_C04_026M', 'S2201_C04_027E', 'S2201_C04_027M', 'S2201_C04_028E', 'S2201_C04_028M', 'S2201_C04_029E', 'S2201_C04_029M', 'S2201_C04_030E', 'S2201_C04_030M', 'S2201_C04_031E', 'S2201_C04_031M', 'S2201_C04_032E', 'S2201_C04_032M', 'S2201_C04_033E', 'S2201_C04_033M', 'S2201_C04_034E', 'S2201_C04_034M', 'S2201_C04_035E', 'S2201_C04_035M', 'S2201_C04_036E', 'S2201_C04_036M', 'S2201_C04_037E', 'S2201_C04_037M', 'S2201_C04_038E', 'S2201_C04_038M', 'S2201_C05_034E', 'S2201_C05_034M', 'S2201_C06_001E', 'S2201_C06_001M', 'S2201_C06_002E', 'S2201_C06_002M', 'S2201_C06_003E', 'S2201_C06_003M', 'S2201_C06_004E', 'S2201_C06_004M', 'S2201_C06_005E', 'S2201_C06_005M', 'S2201_C06_006E', 'S2201_C06_006M', 'S2201_C06_007E', 'S2201_C06_007M', 'S2201_C06_008E', 'S2201_C06_008M', 'S2201_C06_009E', 'S2201_C06_009M', 'S2201_C06_010E', 'S2201_C06_010M', 'S2201_C06_011E', 'S2201_C06_011M', 'S2201_C06_012E', 'S2201_C06_012M', 'S2201_C06_013E', 'S2201_C06_013M', 'S2201_C06_014E', 'S2201_C06_014M', 'S2201_C06_015E', 'S2201_C06_015M', 'S2201_C06_016E', 'S2201_C06_016M', 'S2201_C06_017E', 'S2201_C06_017M', 'S2201_C06_018E', 'S2201_C06_018M', 'S2201_C06_019E', 'S2201_C06_019M', 'S2201_C06_020E', 'S2201_C06_020M', 'S2201_C06_021E', 'S2201_C06_021M', 'S2201_C06_022E', 'S2201_C06_022M', 'S2201_C06_023E', 'S2201_C06_023M', 'S2201_C06_024E', 'S2201_C06_024M', 'S2201_C06_025E', 'S2201_C06_025M', 'S2201_C06_026E', 'S2201_C06_026M', 'S2201_C06_027E', 'S2201_C06_027M', 'S2201_C06_028E', 'S2201_C06_028M', 'S2201_C06_029E', 'S2201_C06_029M', 'S2201_C06_030E', 'S2201_C06_030M', 'S2201_C06_031E', 'S2201_C06_031M', 'S2201_C06_032E', 'S2201_C06_032M', 'S2201_C06_033E', 'S2201_C06_033M', 'S2201_C06_034E', 'S2201_C06_034M', 'S2201_C06_035E', 'S2201_C06_035M', 'S2201_C06_036E', 'S2201_C06_036M', 'S2201_C06_037E', 'S2201_C06_037M', 'S2201_C06_038E', 'S2201_C06_038M', 'USPS_ZIP_PREF_CITY', 'USPS_ZIP_PREF_STATE', 'RES_RATIO', 'BUS_RATIO', 'OTH_RATIO', 'TOT_RATIO']\n",
      "2053\n",
      "       ZIP  NAME  S2201_C01_034E  S2201_C01_034M  S2201_C02_001E  \\\n",
      "0  15001.0   NaN         79370.5         12498.5             NaN   \n",
      "1  15003.0   NaN         65949.0         11871.5             NaN   \n",
      "2  15004.0   NaN         59485.0         17483.0             NaN   \n",
      "3  15005.0   NaN         73488.0         12825.0             NaN   \n",
      "4  15006.0   NaN         83606.0         15998.0             NaN   \n",
      "5  15007.0   NaN        126471.0          9440.0             NaN   \n",
      "6  15009.0   NaN         79019.5         11976.5             NaN   \n",
      "7  15010.0   NaN         74833.0         11222.0             NaN   \n",
      "8  15012.0   NaN         64070.0         12336.5             NaN   \n",
      "9  15014.0   NaN         45427.0          8032.0             NaN   \n",
      "\n",
      "   S2201_C02_001M  S2201_C02_002E  S2201_C02_002M  S2201_C02_003E  \\\n",
      "0             NaN           49.30            8.65           50.70   \n",
      "1             NaN           48.25            8.15           51.75   \n",
      "2             NaN           47.80            7.80           52.20   \n",
      "3             NaN           54.10            6.80           45.90   \n",
      "4             NaN           51.20            7.30           48.80   \n",
      "5             NaN           50.00            8.80           50.00   \n",
      "6             NaN           47.65            6.95           52.35   \n",
      "7             NaN           49.10            7.30           50.90   \n",
      "8             NaN           50.80            7.85           49.20   \n",
      "9             NaN           47.65            9.35           52.35   \n",
      "\n",
      "   S2201_C02_003M  ...  S2201_C06_037E  S2201_C06_037M  S2201_C06_038E  \\\n",
      "0            8.65  ...           28.20            9.10           54.25   \n",
      "1            8.15  ...           27.75           12.05           57.15   \n",
      "2            7.80  ...           19.50            7.30           58.40   \n",
      "3            6.80  ...           22.80            8.50           58.00   \n",
      "4            7.30  ...           25.95            8.85           53.50   \n",
      "5            8.80  ...           21.90            7.80           64.70   \n",
      "6            6.95  ...           31.95            8.60           52.40   \n",
      "7            7.30  ...           32.00           10.20           52.10   \n",
      "8            7.85  ...           28.50           10.45           53.05   \n",
      "9            9.35  ...           40.85           15.40           42.55   \n",
      "\n",
      "   S2201_C06_038M  USPS_ZIP_PREF_CITY  USPS_ZIP_PREF_STATE  RES_RATIO  \\\n",
      "0           10.30                 NaN                  NaN   0.079220   \n",
      "1           13.70                 NaN                  NaN   0.141465   \n",
      "2            9.40                 NaN                  NaN   0.000000   \n",
      "3           10.50                 NaN                  NaN   0.081568   \n",
      "4            9.05                 NaN                  NaN   0.000000   \n",
      "5            9.00                 NaN                  NaN   1.000000   \n",
      "6            9.15                 NaN                  NaN   0.087651   \n",
      "7           10.90                 NaN                  NaN   0.051514   \n",
      "8           11.00                 NaN                  NaN   0.047250   \n",
      "9           17.35                 NaN                  NaN   0.500000   \n",
      "\n",
      "   BUS_RATIO  OTH_RATIO  TOT_RATIO  \n",
      "0   0.058728   0.073611   0.078518  \n",
      "1   0.045741   0.043210   0.129129  \n",
      "2   0.000000   1.000000   1.000000  \n",
      "3   0.046809   0.000000   0.079036  \n",
      "4   0.000000   0.500000   0.500000  \n",
      "5   1.000000   1.000000   1.000000  \n",
      "6   0.041614   0.024096   0.093258  \n",
      "7   0.041794   0.013423   0.048085  \n",
      "8   0.069975   0.023529   0.055323  \n",
      "9   0.500000   0.500000   0.500000  \n",
      "\n",
      "[10 rows x 242 columns]\n"
     ]
    }
   ],
   "source": [
    "#convert TRACT numbers to strings\n",
    "PA_census_renamed['TRACT'] = PA_census_renamed['TRACT'].astype(str)\n",
    "PA_geography_map.loc[:, 'TRACT'] = PA_geography_map['TRACT'].astype(str)\n",
    "\n",
    "#map the tract number to the zip code\n",
    "merged_census = pd.merge(PA_census_renamed, PA_geography_map, on='TRACT', how='left')\n",
    "\n",
    "#move zip to be 1st column\n",
    "columns = ['ZIP'] + [col for col in merged_census.columns if col != 'ZIP']\n",
    "\n",
    "#reassign the column order\n",
    "merged_census = merged_census[columns] #contains census data and geographical information so far\n",
    "\n",
    "# sort by zip code so we can see what is happening and how to collapse\n",
    "merged_census.sort_values(by='ZIP', ascending=True, inplace=True)\n",
    "\n",
    "print(merged_census.shape[0])\n",
    "print(merged_census.head(10))\n",
    "\n",
    "#convert object types to numeric data\n",
    "object_cols = merged_census.select_dtypes(include=['object']).columns\n",
    "\n",
    "for col in object_cols:\n",
    "    merged_census[col] = pd.to_numeric(merged_census[col], errors='coerce')\n",
    "\n",
    "#get the numeric columns only\n",
    "numeric_cols = merged_census.select_dtypes(include=[np.float64, np.float32]).columns.tolist()\n",
    "numeric_cols = [col for col in numeric_cols if col not in ['ZIP', 'Unnamed: 458']]\n",
    "\n",
    "# make sure zip is not part of the averaging columns\n",
    "print(\"Columns for averaging:\", numeric_cols)\n",
    "\n",
    "\n",
    "# collpase by averageing out the values in each column\n",
    "collapsed_data = merged_census.groupby('ZIP')[numeric_cols].median().reset_index()\n",
    "\n",
    "print(collapsed_data.shape[0])\n",
    "print(collapsed_data.head(10))"
   ]
  },
  {
   "cell_type": "code",
   "execution_count": 88,
   "id": "064a9104-df8a-4f73-ae75-0943dc7efc96",
   "metadata": {
    "tags": []
   },
   "outputs": [
    {
     "name": "stdout",
     "output_type": "stream",
     "text": [
      "<class 'pandas.core.frame.DataFrame'>\n",
      "Index: 8908 entries, 1101 to 3864\n",
      "Columns: 466 entries, ZIP to TOT_RATIO\n",
      "dtypes: float64(6), object(460)\n",
      "memory usage: 31.7+ MB\n",
      "None\n"
     ]
    }
   ],
   "source": [
    "print(merged_census.info())"
   ]
  },
  {
   "cell_type": "code",
   "execution_count": 43,
   "id": "c33b08c8-e106-4fc3-87c1-287eeff30a45",
   "metadata": {
    "tags": []
   },
   "outputs": [],
   "source": [
    "#Adding in educational data\n",
    "#master_school_list_renamed = master_school_list.rename({'Zip Code' : 'ZIP'}, axis=1)\n",
    "#master_school_list_renamed.head(10)\n",
    "#master_school_list_renamed.\n",
    "\n",
    "#merged_school_info = pd.merge(master_school_list, merged_census, on='ZIP'\n",
    "\n"
   ]
  },
  {
   "cell_type": "code",
   "execution_count": null,
   "id": "d38c5225-3291-4fd0-b809-d568c4cac114",
   "metadata": {},
   "outputs": [],
   "source": [
    "#Filter down to just Pennslyvania"
   ]
  },
  {
   "cell_type": "code",
   "execution_count": null,
   "id": "aab088fa-5484-4d80-ad07-7f23ff50b097",
   "metadata": {},
   "outputs": [],
   "source": [
    "#Filter down the number of parameters in our data (some of these features are not necessarily the most important!)\n",
    "\n",
    "\n"
   ]
  },
  {
   "cell_type": "code",
   "execution_count": null,
   "id": "9f6d5047-77fa-4cfc-b7aa-cd8cab46780c",
   "metadata": {},
   "outputs": [],
   "source": [
    "#Average the schools within each zip code\n",
    "\n"
   ]
  },
  {
   "cell_type": "code",
   "execution_count": null,
   "id": "94e3b97e-1f38-429b-963a-29411c0a52eb",
   "metadata": {},
   "outputs": [],
   "source": [
    "#Filter data down to radius of 15 miles (see list of generate zip codes)"
   ]
  }
 ],
 "metadata": {
  "kernelspec": {
   "display_name": "Python 3 (ipykernel)",
   "language": "python",
   "name": "python3"
  },
  "language_info": {
   "codemirror_mode": {
    "name": "ipython",
    "version": 3
   },
   "file_extension": ".py",
   "mimetype": "text/x-python",
   "name": "python",
   "nbconvert_exporter": "python",
   "pygments_lexer": "ipython3",
   "version": "3.10.10"
  }
 },
 "nbformat": 4,
 "nbformat_minor": 5
}
