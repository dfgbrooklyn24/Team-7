{
 "cells": [
  {
   "cell_type": "code",
   "execution_count": 1,
   "id": "e33359e2-e6a2-4596-ab51-bfc1983627f0",
   "metadata": {
    "tags": []
   },
   "outputs": [],
   "source": [
    "import pandas as pd"
   ]
  },
  {
   "cell_type": "code",
   "execution_count": 2,
   "id": "e94bad93-41a0-41ef-ae4c-cf336bc6bafe",
   "metadata": {
    "tags": []
   },
   "outputs": [],
   "source": [
    "# Dataframes from Census-Data\n",
    "census_column_keys = pd.read_csv(\"../shared_data_read_only/Census-Data/ACSST5Y2022.S2201-Column-Metadata.csv\")\n",
    "census_data = pd.read_csv(\"../shared_data_read_only/Census-Data/ACSST5Y2022.S2201-Data.csv\", low_memory=False)\n",
    "nonprofit_data = pd.read_csv(\"../shared_data_read_only/Census-Data/Nonprofit_Data_PA.csv\")"
   ]
  },
  {
   "cell_type": "code",
   "execution_count": 3,
   "id": "cbec03e9-22d2-4371-ba9b-270dbb465402",
   "metadata": {
    "tags": []
   },
   "outputs": [],
   "source": [
    "# Dataframes from Education-Data\n",
    "enrollment_demographics = pd.read_csv(\"../shared_data_read_only/Education-Data/2023-2024 Enrollment & Demographics.csv\")\n",
    "master_school_list = pd.read_csv(\"../shared_data_read_only/Education-Data/2023-2024 Master School List (20231003).csv\")\n",
    "college_matriculation = pd.read_csv(\"../shared_data_read_only/Education-Data/SDP_College_Matriculation_2021-2022.csv\")\n",
    "graduation_rates = pd.read_csv(\"../shared_data_read_only/Education-Data/SDP_Graduation_Rates_School_S_2023-02-15.csv\")\n",
    "school_metrics = pd.read_csv(\"../shared_data_read_only/Education-Data/SPREE_SY2122_School_Metric_Scores.csv\")\n",
    "student_ada = pd.read_csv(\"../shared_data_read_only/Education-Data/Student_ADA_Yearly.csv\")"
   ]
  },
  {
   "cell_type": "code",
   "execution_count": 3,
   "id": "495f22fd-c65c-451f-85be-4724d1aa9600",
   "metadata": {
    "tags": []
   },
   "outputs": [],
   "source": [
    "# Dataframes from Geography-Mapping\n",
    "geography_map = pd.read_csv(\"../shared_data_read_only/Geography-Mapping/ZIP_TRACT_122023.csv\")"
   ]
  },
  {
   "cell_type": "code",
   "execution_count": null,
   "id": "8f965105-ad67-4776-93ef-bd5c69c6c71d",
   "metadata": {},
   "outputs": [],
   "source": [
    "#Clean the census data\n",
    "\n",
    "#check if NAME column contains \"Pennsylvania\"\n",
    "#list(census_data.columns)\n",
    "PA_census_data = census_data[census_data['NAME'].str.contains('Pennsylvania')]\n",
    "\n",
    "\n",
    "#remove the leading \"1400000US\" in front to extract the tract number\n",
    "PA_census_data.loc[:, 'GEO_ID'] = PA_census_data['GEO_ID'].str.replace('1400000US', '')\n",
    "PA_census_renamed = PA_census_data.rename({'GEO_ID' : 'TRACT'}, axis=1)\n",
    "\n",
    "PA_census_renamed.head(10)\n",
    "#rename the column to match\n",
    "\n",
    "#convert TRACT numbers to strings\n",
    "PA_census_renamed['TRACT'] = PA_census_renamed['TRACT'].astype(str)\n",
    "geography_map['TRACT'] = geography_map['TRACT'].astype(str)\n",
    "\n",
    "#map the tract number to the zip code\n",
    "merged_census = pd.merge(PA_census_renamed, geography_map, on='TRACT')\n",
    "\n",
    "merged_census.head(10)\n",
    "\n",
    "\n",
    "#move zip to be 1st column\n",
    "\n",
    "columns = ['ZIP'] + [col for col in merged_census.columns if col != 'ZIP']\n",
    "\n",
    "#reassign the column order\n",
    "merged_census = merged_census[columns] #contains census data and geographical information so far\n",
    "\n",
    "merged_census.head(10)\n",
    "\n"
   ]
  },
  {
   "cell_type": "code",
   "execution_count": null,
   "id": "d38c5225-3291-4fd0-b809-d568c4cac114",
   "metadata": {},
   "outputs": [],
   "source": [
    "#Filter down to just Pennslyvania"
   ]
  },
  {
   "cell_type": "code",
   "execution_count": null,
   "id": "94e3b97e-1f38-429b-963a-29411c0a52eb",
   "metadata": {},
   "outputs": [],
   "source": [
    "#Filter data down to radius of 15 miles (see list of generate zip codes)"
   ]
  }
 ],
 "metadata": {
  "kernelspec": {
   "display_name": "Python 3 (ipykernel)",
   "language": "python",
   "name": "python3"
  },
  "language_info": {
   "codemirror_mode": {
    "name": "ipython",
    "version": 3
   },
   "file_extension": ".py",
   "mimetype": "text/x-python",
   "name": "python",
   "nbconvert_exporter": "python",
   "pygments_lexer": "ipython3",
   "version": "3.10.10"
  }
 },
 "nbformat": 4,
 "nbformat_minor": 5
}
