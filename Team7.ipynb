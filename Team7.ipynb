{
 "cells": [
  {
   "cell_type": "code",
   "execution_count": 1,
   "id": "e33359e2-e6a2-4596-ab51-bfc1983627f0",
   "metadata": {
    "tags": []
   },
   "outputs": [],
   "source": [
    "import pandas as pd"
   ]
  },
  {
   "cell_type": "code",
   "execution_count": 2,
   "id": "e94bad93-41a0-41ef-ae4c-cf336bc6bafe",
   "metadata": {
    "tags": []
   },
   "outputs": [],
   "source": [
    "# Dataframes from Census-Data\n",
    "ACSST5Y2022_S2201_Column_Metadata = pd.read_csv(\"../shared_data_read_only/Census-Data/ACSST5Y2022.S2201-Column-Metadata.csv\")\n",
    "ACSST5Y2022_S2201_Data = pd.read_csv(\"../shared_data_read_only/Census-Data/ACSST5Y2022.S2201-Data.csv\", low_memory=False)\n",
    "Nonprofit_Data_PA = pd.read_csv(\"../shared_data_read_only/Census-Data/Nonprofit_Data_PA.csv\")"
   ]
  },
  {
   "cell_type": "code",
   "execution_count": 3,
   "id": "cbec03e9-22d2-4371-ba9b-270dbb465402",
   "metadata": {
    "tags": []
   },
   "outputs": [],
   "source": [
    "# Dataframes from ACSST5Y2022.S2201_2024-04-02T190827.zip from Census-Data\n",
    "ACSST5Y2022_S2201_Column_Metadata = pd.read_csv(\"../shared_documents/ACSST5Y2022.S2201_2024-04-02T190827/ACSST5Y2022.S2201-Column-Metadata.csv\")\n",
    "# ACSST5Y2022_S2201_Data = pd.read_csv(\"../shared_documents/ACSST5Y2022.S2201_2024-04-02T190827/ACSST5Y2022.S2201-Data.csv\")\n",
    "ACSST5Y2022_S2201_Data = pd.read_csv(\"../shared_documents/ACSST5Y2022.S2201_2024-04-02T190827/ACSST5Y2022.S2201-Data.csv\", sep=',', low_memory=False)"
   ]
  },
  {
   "cell_type": "code",
   "execution_count": 4,
   "id": "ee37777c-f7e5-42a0-9bad-62bff5c088a6",
   "metadata": {
    "tags": []
   },
   "outputs": [],
   "source": [
    "# Dataframes from Education-Data\n",
    "Enrollment_Demographics_2023_2024 = pd.read_csv(\"../shared_data_read_only/Education-Data/2023-2024 Enrollment & Demographics.csv\")\n",
    "Master_School_List_20231003_2023_2024 = pd.read_csv(\"../shared_data_read_only/Education-Data/2023-2024 Master School List (20231003).csv\")\n",
    "SDP_College_Matriculation_2021_2022 = pd.read_csv(\"../shared_data_read_only/Education-Data/SDP_College_Matriculation_2021-2022.csv\")\n",
    "SDP_Graduation_Rates_School_S_2023_02_15 = pd.read_csv(\"../shared_data_read_only/Education-Data/SDP_Graduation_Rates_School_S_2023-02-15.csv\")\n",
    "SPREE_SY2122_School_Metric_Scores = pd.read_csv(\"../shared_data_read_only/Education-Data/SPREE_SY2122_School_Metric_Scores.csv\")\n",
    "Student_ADA_Yearly = pd.read_csv(\"../shared_data_read_only/Education-Data/Student_ADA_Yearly.csv\")"
   ]
  },
  {
   "cell_type": "code",
   "execution_count": 5,
   "id": "8e4a1381-47c4-4d08-a6e1-3f1b860c74b6",
   "metadata": {
    "tags": []
   },
   "outputs": [],
   "source": [
    "# Dataframes from Geography-Mapping\n",
    "zip_tract_122023 = pd.read_csv(\"../shared_data_read_only/Geography-Mapping/ZIP_TRACT_122023.csv\")"
   ]
  },
  {
   "cell_type": "code",
   "execution_count": 6,
   "id": "13a01219-d338-4308-9e18-08ea5ec3aff8",
   "metadata": {
    "tags": []
   },
   "outputs": [
    {
     "data": {
      "text/html": [
       "<div>\n",
       "<style scoped>\n",
       "    .dataframe tbody tr th:only-of-type {\n",
       "        vertical-align: middle;\n",
       "    }\n",
       "\n",
       "    .dataframe tbody tr th {\n",
       "        vertical-align: top;\n",
       "    }\n",
       "\n",
       "    .dataframe thead th {\n",
       "        text-align: right;\n",
       "    }\n",
       "</style>\n",
       "<table border=\"1\" class=\"dataframe\">\n",
       "  <thead>\n",
       "    <tr style=\"text-align: right;\">\n",
       "      <th></th>\n",
       "      <th>ZIP</th>\n",
       "      <th>TRACT</th>\n",
       "      <th>USPS_ZIP_PREF_CITY</th>\n",
       "      <th>USPS_ZIP_PREF_STATE</th>\n",
       "      <th>RES_RATIO</th>\n",
       "      <th>BUS_RATIO</th>\n",
       "      <th>OTH_RATIO</th>\n",
       "      <th>TOT_RATIO</th>\n",
       "    </tr>\n",
       "  </thead>\n",
       "  <tbody>\n",
       "    <tr>\n",
       "      <th>0</th>\n",
       "      <td>501</td>\n",
       "      <td>36103158607</td>\n",
       "      <td>HOLTSVILLE</td>\n",
       "      <td>NY</td>\n",
       "      <td>0.000000</td>\n",
       "      <td>1.000000</td>\n",
       "      <td>0.000000</td>\n",
       "      <td>1.000000</td>\n",
       "    </tr>\n",
       "    <tr>\n",
       "      <th>1</th>\n",
       "      <td>601</td>\n",
       "      <td>72001956800</td>\n",
       "      <td>ADJUNTAS</td>\n",
       "      <td>PR</td>\n",
       "      <td>0.014530</td>\n",
       "      <td>0.012469</td>\n",
       "      <td>0.042683</td>\n",
       "      <td>0.015121</td>\n",
       "    </tr>\n",
       "    <tr>\n",
       "      <th>2</th>\n",
       "      <td>601</td>\n",
       "      <td>72113071700</td>\n",
       "      <td>ADJUNTAS</td>\n",
       "      <td>PR</td>\n",
       "      <td>0.158291</td>\n",
       "      <td>0.199501</td>\n",
       "      <td>0.128049</td>\n",
       "      <td>0.160094</td>\n",
       "    </tr>\n",
       "    <tr>\n",
       "      <th>3</th>\n",
       "      <td>601</td>\n",
       "      <td>72001956600</td>\n",
       "      <td>ADJUNTAS</td>\n",
       "      <td>PR</td>\n",
       "      <td>0.180513</td>\n",
       "      <td>0.351621</td>\n",
       "      <td>0.378049</td>\n",
       "      <td>0.196259</td>\n",
       "    </tr>\n",
       "    <tr>\n",
       "      <th>4</th>\n",
       "      <td>601</td>\n",
       "      <td>72001956700</td>\n",
       "      <td>ADJUNTAS</td>\n",
       "      <td>PR</td>\n",
       "      <td>0.646667</td>\n",
       "      <td>0.436409</td>\n",
       "      <td>0.451220</td>\n",
       "      <td>0.628527</td>\n",
       "    </tr>\n",
       "  </tbody>\n",
       "</table>\n",
       "</div>"
      ],
      "text/plain": [
       "   ZIP        TRACT USPS_ZIP_PREF_CITY USPS_ZIP_PREF_STATE  RES_RATIO  \\\n",
       "0  501  36103158607         HOLTSVILLE                  NY   0.000000   \n",
       "1  601  72001956800           ADJUNTAS                  PR   0.014530   \n",
       "2  601  72113071700           ADJUNTAS                  PR   0.158291   \n",
       "3  601  72001956600           ADJUNTAS                  PR   0.180513   \n",
       "4  601  72001956700           ADJUNTAS                  PR   0.646667   \n",
       "\n",
       "   BUS_RATIO  OTH_RATIO  TOT_RATIO  \n",
       "0   1.000000   0.000000   1.000000  \n",
       "1   0.012469   0.042683   0.015121  \n",
       "2   0.199501   0.128049   0.160094  \n",
       "3   0.351621   0.378049   0.196259  \n",
       "4   0.436409   0.451220   0.628527  "
      ]
     },
     "execution_count": 6,
     "metadata": {},
     "output_type": "execute_result"
    }
   ],
   "source": [
    "zip_tract_122023.head(10)"
   ]
  }
 ],
 "metadata": {
  "kernelspec": {
   "display_name": "Python 3 (ipykernel)",
   "language": "python",
   "name": "python3"
  },
  "language_info": {
   "codemirror_mode": {
    "name": "ipython",
    "version": 3
   },
   "file_extension": ".py",
   "mimetype": "text/x-python",
   "name": "python",
   "nbconvert_exporter": "python",
   "pygments_lexer": "ipython3",
   "version": "3.10.10"
  }
 },
 "nbformat": 4,
 "nbformat_minor": 5
}
