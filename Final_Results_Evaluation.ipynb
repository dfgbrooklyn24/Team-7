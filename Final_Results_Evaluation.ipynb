{
 "cells": [
  {
   "cell_type": "code",
   "execution_count": 1,
   "id": "48525f40-0e2d-419c-98bc-a8197f39d22a",
   "metadata": {
    "tags": []
   },
   "outputs": [],
   "source": [
    "# SETS FROM EDUCATION DATAFRAME\n",
    "set1 = {19104, 19139, 19142, 19143, 19148, 19153, 19130, 19131} #less_enrollment_zip_codes\n",
    "set2 = {19104, 19139, 19141, 19142, 19143, 19148, 19153, 19131} #LESS_GRADUATION-RATES\n",
    "set3 = {19137, 19140, 19147, 19116, 19148, 19149, 19115, 19152, 19154, 19124, 19125, 19133, 19103} #MORE_BLACK_AFRICAN_POPULATION"
   ]
  },
  {
   "cell_type": "code",
   "execution_count": 2,
   "id": "89aa791a-1ec2-4c5b-b8f3-af1328694b2a",
   "metadata": {
    "tags": []
   },
   "outputs": [],
   "source": [
    "# SETS FROM CENSUS DATAFRAME\n",
    "set4 = {19073, 15238, 15239, 15240, 19462, 19086, 19352, 17055, 16802, 16803, 19363, 15668, 19008, 19146, 15317, 15068, 15215, 15347, 19063} # LESS_INCOME\n",
    "set5 = {17408, 16131, 16134, 17543, 17545, 15001, 17049, 19104, 17313, 17059, 17076, 17086, 17104, 17111, 17113, 17122, 16117, 17014, 17403, 17404} #MORE FOOD STAMP\n",
    "set6 = {19090, 15644, 19104, 17313, 19111, 19120, 19001, 19138, 19142, 19144, 17356, 19406, 19025, 19034, 15208, 15218, 15221, 19446, 18042, 17403} # MORE BLACK AFRICAN POPULATION"
   ]
  },
  {
   "cell_type": "code",
   "execution_count": 3,
   "id": "07182328-32b9-449b-bd17-a973591d7571",
   "metadata": {
    "tags": []
   },
   "outputs": [
    {
     "name": "stdout",
     "output_type": "stream",
     "text": [
      "Common zip codes across all sets: set()\n"
     ]
    }
   ],
   "source": [
    "common_zip_codes = set1 & set2 & set3 & set4 & set5 & set6\n",
    "\n",
    "print(\"Common zip codes across all sets:\", common_zip_codes)"
   ]
  },
  {
   "cell_type": "code",
   "execution_count": 4,
   "id": "ef1279b5-545b-4cd4-8dbb-7d074a70b531",
   "metadata": {
    "tags": []
   },
   "outputs": [
    {
     "name": "stdout",
     "output_type": "stream",
     "text": [
      "Zip Code 19104 appears in: Set1, Set2, Set5, Set6\n",
      "Zip Code 19139 appears in: Set1, Set2\n",
      "Zip Code 19142 appears in: Set1, Set2, Set6\n",
      "Zip Code 19143 appears in: Set1, Set2\n",
      "Zip Code 19148 appears in: Set1, Set2, Set3\n",
      "Zip Code 19153 appears in: Set1, Set2\n",
      "Zip Code 19130 appears in: Set1\n",
      "Zip Code 19131 appears in: Set1, Set2\n",
      "Zip Code 19141 appears in: Set2\n",
      "Zip Code 19137 appears in: Set3\n",
      "Zip Code 19140 appears in: Set3\n",
      "Zip Code 19147 appears in: Set3\n",
      "Zip Code 19116 appears in: Set3\n",
      "Zip Code 19149 appears in: Set3\n",
      "Zip Code 19115 appears in: Set3\n",
      "Zip Code 19152 appears in: Set3\n",
      "Zip Code 19154 appears in: Set3\n",
      "Zip Code 19124 appears in: Set3\n",
      "Zip Code 19125 appears in: Set3\n",
      "Zip Code 19133 appears in: Set3\n",
      "Zip Code 19103 appears in: Set3\n",
      "Zip Code 19008 appears in: Set4\n",
      "Zip Code 19073 appears in: Set4\n",
      "Zip Code 15238 appears in: Set4\n",
      "Zip Code 19462 appears in: Set4\n",
      "Zip Code 15240 appears in: Set4\n",
      "Zip Code 15239 appears in: Set4\n",
      "Zip Code 19146 appears in: Set4\n",
      "Zip Code 19086 appears in: Set4\n",
      "Zip Code 15317 appears in: Set4\n",
      "Zip Code 19352 appears in: Set4\n",
      "Zip Code 15068 appears in: Set4\n",
      "Zip Code 17055 appears in: Set4\n",
      "Zip Code 16802 appears in: Set4\n",
      "Zip Code 16803 appears in: Set4\n",
      "Zip Code 19363 appears in: Set4\n",
      "Zip Code 15215 appears in: Set4\n",
      "Zip Code 15347 appears in: Set4\n",
      "Zip Code 15668 appears in: Set4\n",
      "Zip Code 19063 appears in: Set4\n",
      "Zip Code 17408 appears in: Set5\n",
      "Zip Code 16131 appears in: Set5\n",
      "Zip Code 16134 appears in: Set5\n",
      "Zip Code 17543 appears in: Set5\n",
      "Zip Code 17545 appears in: Set5\n",
      "Zip Code 17104 appears in: Set5\n",
      "Zip Code 17111 appears in: Set5\n",
      "Zip Code 15001 appears in: Set5\n",
      "Zip Code 17049 appears in: Set5\n",
      "Zip Code 17113 appears in: Set5\n",
      "Zip Code 17313 appears in: Set5, Set6\n",
      "Zip Code 17122 appears in: Set5\n",
      "Zip Code 17059 appears in: Set5\n",
      "Zip Code 17076 appears in: Set5\n",
      "Zip Code 16117 appears in: Set5\n",
      "Zip Code 17014 appears in: Set5\n",
      "Zip Code 17403 appears in: Set5, Set6\n",
      "Zip Code 17404 appears in: Set5\n",
      "Zip Code 17086 appears in: Set5\n",
      "Zip Code 19138 appears in: Set6\n",
      "Zip Code 19144 appears in: Set6\n",
      "Zip Code 17356 appears in: Set6\n",
      "Zip Code 19406 appears in: Set6\n",
      "Zip Code 19025 appears in: Set6\n",
      "Zip Code 19090 appears in: Set6\n",
      "Zip Code 19034 appears in: Set6\n",
      "Zip Code 15644 appears in: Set6\n",
      "Zip Code 19111 appears in: Set6\n",
      "Zip Code 15208 appears in: Set6\n",
      "Zip Code 19120 appears in: Set6\n",
      "Zip Code 15218 appears in: Set6\n",
      "Zip Code 15221 appears in: Set6\n",
      "Zip Code 19446 appears in: Set6\n",
      "Zip Code 19001 appears in: Set6\n",
      "Zip Code 18042 appears in: Set6\n"
     ]
    }
   ],
   "source": [
    "sets = {\n",
    "    'Set1': {19104, 19139, 19142, 19143, 19148, 19153, 19130, 19131},\n",
    "    'Set2': {19104, 19139, 19141, 19142, 19143, 19148, 19153, 19131},\n",
    "    'Set3': {19137, 19140, 19147, 19116, 19148, 19149, 19115, 19152, 19154, 19124, 19125, 19133, 19103},\n",
    "    'Set4': {19073, 15238, 15239, 15240, 19462, 19086, 19352, 17055, 16802, 16803, 19363, 15668, 19008, 19146, 15317, 15068, 15215, 15347, 19063},\n",
    "    'Set5': {17408, 16131, 16134, 17543, 17545, 15001, 17049, 19104, 17313, 17059, 17076, 17086, 17104, 17111, 17113, 17122, 16117, 17014, 17403, 17404},\n",
    "    'Set6': {19090, 15644, 19104, 17313, 19111, 19120, 19001, 19138, 19142, 19144, 17356, 19406, 19025, 19034, 15208, 15218, 15221, 19446, 18042, 17403}\n",
    "}\n",
    "\n",
    "# Map to keep track of which zip codes appear in which sets\n",
    "zip_code_membership = {}\n",
    "for set_name, set_contents in sets.items():\n",
    "    for zip_code in set_contents:\n",
    "        if zip_code not in zip_code_membership:\n",
    "            zip_code_membership[zip_code] = []\n",
    "        zip_code_membership[zip_code].append(set_name)\n",
    "\n",
    "# Print the membership of each zip code\n",
    "for zip_code, memberships in zip_code_membership.items():\n",
    "    print(f\"Zip Code {zip_code} appears in: {', '.join(memberships)}\")"
   ]
  },
  {
   "cell_type": "code",
   "execution_count": null,
   "id": "9d474810-7232-4f53-898f-39e00dc7e59b",
   "metadata": {
    "tags": []
   },
   "outputs": [],
   "source": [
    "df.to_json('data.json')"
   ]
  },
  {
   "cell_type": "code",
   "execution_count": null,
   "id": "e29cc1d1-4488-48a2-90ad-d4d263ee89d9",
   "metadata": {},
   "outputs": [],
   "source": []
  }
 ],
 "metadata": {
  "kernelspec": {
   "display_name": "Python 3 (ipykernel)",
   "language": "python",
   "name": "python3"
  },
  "language_info": {
   "codemirror_mode": {
    "name": "ipython",
    "version": 3
   },
   "file_extension": ".py",
   "mimetype": "text/x-python",
   "name": "python",
   "nbconvert_exporter": "python",
   "pygments_lexer": "ipython3",
   "version": "3.10.10"
  }
 },
 "nbformat": 4,
 "nbformat_minor": 5
}
